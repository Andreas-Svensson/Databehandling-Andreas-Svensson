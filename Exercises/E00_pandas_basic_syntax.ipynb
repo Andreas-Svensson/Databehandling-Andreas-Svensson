{
 "cells": [
  {
   "cell_type": "markdown",
   "metadata": {},
   "source": [
    "# 1. Cities in Sweden - create dataset (*)  \n",
    "Create this DataFrame from scratch:  \n",
    "\n",
    "Kommun\tPopulation  \n",
    "0\tMalmö\t347949  \n",
    "1\tStockholm\t975551  \n",
    "2\tUppsala\t233839  \n",
    "3\tGöteborg\t583056  "
   ]
  },
  {
   "cell_type": "code",
   "execution_count": 1245,
   "metadata": {},
   "outputs": [
    {
     "data": {
      "text/html": [
       "<div>\n",
       "<style scoped>\n",
       "    .dataframe tbody tr th:only-of-type {\n",
       "        vertical-align: middle;\n",
       "    }\n",
       "\n",
       "    .dataframe tbody tr th {\n",
       "        vertical-align: top;\n",
       "    }\n",
       "\n",
       "    .dataframe thead th {\n",
       "        text-align: right;\n",
       "    }\n",
       "</style>\n",
       "<table border=\"1\" class=\"dataframe\">\n",
       "  <thead>\n",
       "    <tr style=\"text-align: right;\">\n",
       "      <th></th>\n",
       "      <th>Kommun</th>\n",
       "      <th>Population</th>\n",
       "    </tr>\n",
       "  </thead>\n",
       "  <tbody>\n",
       "    <tr>\n",
       "      <th>0</th>\n",
       "      <td>Malmö</td>\n",
       "      <td>347949</td>\n",
       "    </tr>\n",
       "    <tr>\n",
       "      <th>1</th>\n",
       "      <td>Stockholm</td>\n",
       "      <td>975551</td>\n",
       "    </tr>\n",
       "    <tr>\n",
       "      <th>2</th>\n",
       "      <td>Uppsala</td>\n",
       "      <td>233839</td>\n",
       "    </tr>\n",
       "    <tr>\n",
       "      <th>3</th>\n",
       "      <td>Göteborg</td>\n",
       "      <td>583056</td>\n",
       "    </tr>\n",
       "  </tbody>\n",
       "</table>\n",
       "</div>"
      ],
      "text/plain": [
       "      Kommun  Population\n",
       "0      Malmö      347949\n",
       "1  Stockholm      975551\n",
       "2    Uppsala      233839\n",
       "3   Göteborg      583056"
      ]
     },
     "execution_count": 1245,
     "metadata": {},
     "output_type": "execute_result"
    }
   ],
   "source": [
    "import pandas as pd\n",
    "\n",
    "data_dict = {'Kommun':['Malmö', 'Stockholm', 'Uppsala', 'Göteborg'], 'Population': [347949, 975551, 233839, 583056]}\n",
    "df_city_pop = pd.DataFrame(data=data_dict)\n",
    "df_city_pop"
   ]
  },
  {
   "cell_type": "markdown",
   "metadata": {},
   "source": [
    "---\n",
    "## a) \n",
    "Use your DataFrame to print out all the cities"
   ]
  },
  {
   "cell_type": "code",
   "execution_count": 1246,
   "metadata": {},
   "outputs": [
    {
     "name": "stdout",
     "output_type": "stream",
     "text": [
      "Malmö, Stockholm, Uppsala, Göteborg\n"
     ]
    }
   ],
   "source": [
    "# a) Use your DataFrame to print out all the cities\n",
    "print(\", \".join(df_city_pop[\"Kommun\"]))"
   ]
  },
  {
   "cell_type": "markdown",
   "metadata": {},
   "source": [
    "---\n",
    "## b) \n",
    "Select only the row which contains Göteborg. Do this by using the name Göteborg"
   ]
  },
  {
   "cell_type": "code",
   "execution_count": 1247,
   "metadata": {},
   "outputs": [
    {
     "data": {
      "text/plain": [
       "0    False\n",
       "1    False\n",
       "2    False\n",
       "3     True\n",
       "Name: Kommun, dtype: bool"
      ]
     },
     "execution_count": 1247,
     "metadata": {},
     "output_type": "execute_result"
    }
   ],
   "source": [
    "df_city_pop[\"Kommun\"] == \"Göteborg\" # returns true for row matching value of \"Göteborg\" in column \"Kommun\" - Use this in next cell:"
   ]
  },
  {
   "cell_type": "code",
   "execution_count": 1248,
   "metadata": {},
   "outputs": [
    {
     "data": {
      "text/html": [
       "<div>\n",
       "<style scoped>\n",
       "    .dataframe tbody tr th:only-of-type {\n",
       "        vertical-align: middle;\n",
       "    }\n",
       "\n",
       "    .dataframe tbody tr th {\n",
       "        vertical-align: top;\n",
       "    }\n",
       "\n",
       "    .dataframe thead th {\n",
       "        text-align: right;\n",
       "    }\n",
       "</style>\n",
       "<table border=\"1\" class=\"dataframe\">\n",
       "  <thead>\n",
       "    <tr style=\"text-align: right;\">\n",
       "      <th></th>\n",
       "      <th>Kommun</th>\n",
       "      <th>Population</th>\n",
       "    </tr>\n",
       "  </thead>\n",
       "  <tbody>\n",
       "    <tr>\n",
       "      <th>3</th>\n",
       "      <td>Göteborg</td>\n",
       "      <td>583056</td>\n",
       "    </tr>\n",
       "  </tbody>\n",
       "</table>\n",
       "</div>"
      ],
      "text/plain": [
       "     Kommun  Population\n",
       "3  Göteborg      583056"
      ]
     },
     "execution_count": 1248,
     "metadata": {},
     "output_type": "execute_result"
    }
   ],
   "source": [
    "# b) Select only the row which contains Göteborg. Do this by using the name Göteborg\n",
    "df_city_pop[df_city_pop[\"Kommun\"] == \"Göteborg\"] # to get values of the entire row"
   ]
  },
  {
   "cell_type": "markdown",
   "metadata": {},
   "source": [
    "---\n",
    "## c) \n",
    "Sort the cities by population from largest to smallest"
   ]
  },
  {
   "cell_type": "code",
   "execution_count": 1249,
   "metadata": {},
   "outputs": [
    {
     "data": {
      "text/html": [
       "<div>\n",
       "<style scoped>\n",
       "    .dataframe tbody tr th:only-of-type {\n",
       "        vertical-align: middle;\n",
       "    }\n",
       "\n",
       "    .dataframe tbody tr th {\n",
       "        vertical-align: top;\n",
       "    }\n",
       "\n",
       "    .dataframe thead th {\n",
       "        text-align: right;\n",
       "    }\n",
       "</style>\n",
       "<table border=\"1\" class=\"dataframe\">\n",
       "  <thead>\n",
       "    <tr style=\"text-align: right;\">\n",
       "      <th></th>\n",
       "      <th>Kommun</th>\n",
       "      <th>Population</th>\n",
       "    </tr>\n",
       "  </thead>\n",
       "  <tbody>\n",
       "    <tr>\n",
       "      <th>1</th>\n",
       "      <td>Stockholm</td>\n",
       "      <td>975551</td>\n",
       "    </tr>\n",
       "    <tr>\n",
       "      <th>3</th>\n",
       "      <td>Göteborg</td>\n",
       "      <td>583056</td>\n",
       "    </tr>\n",
       "    <tr>\n",
       "      <th>0</th>\n",
       "      <td>Malmö</td>\n",
       "      <td>347949</td>\n",
       "    </tr>\n",
       "    <tr>\n",
       "      <th>2</th>\n",
       "      <td>Uppsala</td>\n",
       "      <td>233839</td>\n",
       "    </tr>\n",
       "  </tbody>\n",
       "</table>\n",
       "</div>"
      ],
      "text/plain": [
       "      Kommun  Population\n",
       "1  Stockholm      975551\n",
       "3   Göteborg      583056\n",
       "0      Malmö      347949\n",
       "2    Uppsala      233839"
      ]
     },
     "execution_count": 1249,
     "metadata": {},
     "output_type": "execute_result"
    }
   ],
   "source": [
    "df_city_pop.sort_values(by = \"Population\", ascending = False, inplace = True)\n",
    "df_city_pop"
   ]
  },
  {
   "cell_type": "markdown",
   "metadata": {},
   "source": [
    "---\n",
    "## d) \n",
    "Filter out the three largest cities"
   ]
  },
  {
   "cell_type": "code",
   "execution_count": 1250,
   "metadata": {},
   "outputs": [
    {
     "data": {
      "text/html": [
       "<div>\n",
       "<style scoped>\n",
       "    .dataframe tbody tr th:only-of-type {\n",
       "        vertical-align: middle;\n",
       "    }\n",
       "\n",
       "    .dataframe tbody tr th {\n",
       "        vertical-align: top;\n",
       "    }\n",
       "\n",
       "    .dataframe thead th {\n",
       "        text-align: right;\n",
       "    }\n",
       "</style>\n",
       "<table border=\"1\" class=\"dataframe\">\n",
       "  <thead>\n",
       "    <tr style=\"text-align: right;\">\n",
       "      <th></th>\n",
       "      <th>Kommun</th>\n",
       "      <th>Population</th>\n",
       "    </tr>\n",
       "  </thead>\n",
       "  <tbody>\n",
       "    <tr>\n",
       "      <th>2</th>\n",
       "      <td>Uppsala</td>\n",
       "      <td>233839</td>\n",
       "    </tr>\n",
       "  </tbody>\n",
       "</table>\n",
       "</div>"
      ],
      "text/plain": [
       "    Kommun  Population\n",
       "2  Uppsala      233839"
      ]
     },
     "execution_count": 1250,
     "metadata": {},
     "output_type": "execute_result"
    }
   ],
   "source": [
    "# d) Filter out the three largest cities\n",
    "df_city_pop.tail(-3)"
   ]
  },
  {
   "cell_type": "markdown",
   "metadata": {},
   "source": [
    "---\n",
    "## e) \n",
    "The whole population in Sweden 2020 is 10379295   \n",
    "Use this number to create a new column in your sorted DataFrame named: Population (%)  \n",
    "This column should be filled with percentage of the Swedish population for each city  "
   ]
  },
  {
   "cell_type": "code",
   "execution_count": 1251,
   "metadata": {},
   "outputs": [
    {
     "data": {
      "text/html": [
       "<div>\n",
       "<style scoped>\n",
       "    .dataframe tbody tr th:only-of-type {\n",
       "        vertical-align: middle;\n",
       "    }\n",
       "\n",
       "    .dataframe tbody tr th {\n",
       "        vertical-align: top;\n",
       "    }\n",
       "\n",
       "    .dataframe thead th {\n",
       "        text-align: right;\n",
       "    }\n",
       "</style>\n",
       "<table border=\"1\" class=\"dataframe\">\n",
       "  <thead>\n",
       "    <tr style=\"text-align: right;\">\n",
       "      <th></th>\n",
       "      <th>Kommun</th>\n",
       "      <th>Population</th>\n",
       "      <th>Population (%)</th>\n",
       "    </tr>\n",
       "  </thead>\n",
       "  <tbody>\n",
       "    <tr>\n",
       "      <th>1</th>\n",
       "      <td>Stockholm</td>\n",
       "      <td>975551</td>\n",
       "      <td>9.40</td>\n",
       "    </tr>\n",
       "    <tr>\n",
       "      <th>3</th>\n",
       "      <td>Göteborg</td>\n",
       "      <td>583056</td>\n",
       "      <td>5.62</td>\n",
       "    </tr>\n",
       "    <tr>\n",
       "      <th>0</th>\n",
       "      <td>Malmö</td>\n",
       "      <td>347949</td>\n",
       "      <td>3.35</td>\n",
       "    </tr>\n",
       "    <tr>\n",
       "      <th>2</th>\n",
       "      <td>Uppsala</td>\n",
       "      <td>233839</td>\n",
       "      <td>2.25</td>\n",
       "    </tr>\n",
       "  </tbody>\n",
       "</table>\n",
       "</div>"
      ],
      "text/plain": [
       "      Kommun  Population  Population (%)\n",
       "1  Stockholm      975551            9.40\n",
       "3   Göteborg      583056            5.62\n",
       "0      Malmö      347949            3.35\n",
       "2    Uppsala      233839            2.25"
      ]
     },
     "execution_count": 1251,
     "metadata": {},
     "output_type": "execute_result"
    }
   ],
   "source": [
    "df_city_pop[\"Population (%)\"] = ((df_city_pop[\"Population\"] / 10379295)*100).round(2)\n",
    "df_city_pop"
   ]
  },
  {
   "cell_type": "markdown",
   "metadata": {},
   "source": [
    "# 2. Cities in Sweden - real dataset (*)\n",
    "\n",
    "Go into [this page][scb_pop50], scroll down and download the Excel file containing Swedish population dataset from SCB.\n",
    "\n",
    "[scb_pop50]: https://www.scb.se/hitta-statistik/statistik-efter-amne/befolkning/befolkningens-sammansattning/befolkningsstatistik/pong/tabell-och-diagram/topplistor-kommuner/folkmangd-topp-50/"
   ]
  },
  {
   "cell_type": "markdown",
   "metadata": {},
   "source": [
    "---\n",
    "## &nbsp; a) \n",
    "Read in the tab \"Totalt\" into a DataFrame and start exploring the data with some simple explorations such as\n",
    "\n",
    "```python\n",
    "df.head()\n",
    "df.info()\n",
    "df.describe()\n",
    "```"
   ]
  },
  {
   "cell_type": "code",
   "execution_count": 1252,
   "metadata": {},
   "outputs": [
    {
     "data": {
      "text/html": [
       "<div>\n",
       "<style scoped>\n",
       "    .dataframe tbody tr th:only-of-type {\n",
       "        vertical-align: middle;\n",
       "    }\n",
       "\n",
       "    .dataframe tbody tr th {\n",
       "        vertical-align: top;\n",
       "    }\n",
       "\n",
       "    .dataframe thead th {\n",
       "        text-align: right;\n",
       "    }\n",
       "</style>\n",
       "<table border=\"1\" class=\"dataframe\">\n",
       "  <thead>\n",
       "    <tr style=\"text-align: right;\">\n",
       "      <th></th>\n",
       "      <th>Unnamed: 0</th>\n",
       "      <th>Unnamed: 1</th>\n",
       "      <th>Unnamed: 2</th>\n",
       "      <th>Unnamed: 3</th>\n",
       "      <th>Unnamed: 4</th>\n",
       "      <th>Unnamed: 5</th>\n",
       "    </tr>\n",
       "  </thead>\n",
       "  <tbody>\n",
       "    <tr>\n",
       "      <th>0</th>\n",
       "      <td>NaN</td>\n",
       "      <td>NaN</td>\n",
       "      <td>NaN</td>\n",
       "      <td>NaN</td>\n",
       "      <td>NaN</td>\n",
       "      <td>NaN</td>\n",
       "    </tr>\n",
       "    <tr>\n",
       "      <th>1</th>\n",
       "      <td>Folkmängd per kommun 31 december 2020 jämfört ...</td>\n",
       "      <td>NaN</td>\n",
       "      <td>NaN</td>\n",
       "      <td>NaN</td>\n",
       "      <td>NaN</td>\n",
       "      <td>NaN</td>\n",
       "    </tr>\n",
       "    <tr>\n",
       "      <th>2</th>\n",
       "      <td>Sorterat i alfabetisk ordning. Rangordning frå...</td>\n",
       "      <td>NaN</td>\n",
       "      <td>NaN</td>\n",
       "      <td>NaN</td>\n",
       "      <td>NaN</td>\n",
       "      <td>NaN</td>\n",
       "    </tr>\n",
       "    <tr>\n",
       "      <th>3</th>\n",
       "      <td>NaN</td>\n",
       "      <td>NaN</td>\n",
       "      <td>NaN</td>\n",
       "      <td>NaN</td>\n",
       "      <td>NaN</td>\n",
       "      <td>NaN</td>\n",
       "    </tr>\n",
       "    <tr>\n",
       "      <th>4</th>\n",
       "      <td>Rang</td>\n",
       "      <td>NaN</td>\n",
       "      <td>Kommun</td>\n",
       "      <td>Folkmängd 31 december</td>\n",
       "      <td>NaN</td>\n",
       "      <td>Förändring</td>\n",
       "    </tr>\n",
       "    <tr>\n",
       "      <th>5</th>\n",
       "      <td>2020</td>\n",
       "      <td>2019.0</td>\n",
       "      <td>NaN</td>\n",
       "      <td>2020</td>\n",
       "      <td>2019.0</td>\n",
       "      <td>%</td>\n",
       "    </tr>\n",
       "    <tr>\n",
       "      <th>6</th>\n",
       "      <td>83</td>\n",
       "      <td>84.0</td>\n",
       "      <td>Ale</td>\n",
       "      <td>31868</td>\n",
       "      <td>31402.0</td>\n",
       "      <td>1.483982</td>\n",
       "    </tr>\n",
       "  </tbody>\n",
       "</table>\n",
       "</div>"
      ],
      "text/plain": [
       "                                          Unnamed: 0  Unnamed: 1 Unnamed: 2  \\\n",
       "0                                                NaN         NaN        NaN   \n",
       "1  Folkmängd per kommun 31 december 2020 jämfört ...         NaN        NaN   \n",
       "2  Sorterat i alfabetisk ordning. Rangordning frå...         NaN        NaN   \n",
       "3                                                NaN         NaN        NaN   \n",
       "4                                               Rang         NaN     Kommun   \n",
       "5                                               2020      2019.0        NaN   \n",
       "6                                                 83        84.0        Ale   \n",
       "\n",
       "              Unnamed: 3  Unnamed: 4  Unnamed: 5  \n",
       "0                    NaN         NaN         NaN  \n",
       "1                    NaN         NaN         NaN  \n",
       "2                    NaN         NaN         NaN  \n",
       "3                    NaN         NaN         NaN  \n",
       "4  Folkmängd 31 december         NaN  Förändring  \n",
       "5                   2020      2019.0           %  \n",
       "6                  31868     31402.0    1.483982  "
      ]
     },
     "execution_count": 1252,
     "metadata": {},
     "output_type": "execute_result"
    }
   ],
   "source": [
    "import pandas as pd\n",
    "import matplotlib.pyplot as plt\n",
    "import seaborn as sns\n",
    "\n",
    "\n",
    "file_path = \"../Data/komtopp50_2020.xlsx\"\n",
    "df = pd.read_excel(file_path, sheet_name = \"Totalt\")\n",
    "df.head(7)"
   ]
  },
  {
   "cell_type": "code",
   "execution_count": 1253,
   "metadata": {},
   "outputs": [
    {
     "name": "stdout",
     "output_type": "stream",
     "text": [
      "<class 'pandas.core.frame.DataFrame'>\n",
      "RangeIndex: 296 entries, 0 to 295\n",
      "Data columns (total 6 columns):\n",
      " #   Column      Non-Null Count  Dtype  \n",
      "---  ------      --------------  -----  \n",
      " 0   Unnamed: 0  294 non-null    object \n",
      " 1   Unnamed: 1  291 non-null    float64\n",
      " 2   Unnamed: 2  291 non-null    object \n",
      " 3   Unnamed: 3  292 non-null    object \n",
      " 4   Unnamed: 4  291 non-null    float64\n",
      " 5   Unnamed: 5  292 non-null    object \n",
      "dtypes: float64(2), object(4)\n",
      "memory usage: 14.0+ KB\n"
     ]
    }
   ],
   "source": [
    "df.info()"
   ]
  },
  {
   "cell_type": "code",
   "execution_count": 1254,
   "metadata": {},
   "outputs": [
    {
     "data": {
      "text/html": [
       "<div>\n",
       "<style scoped>\n",
       "    .dataframe tbody tr th:only-of-type {\n",
       "        vertical-align: middle;\n",
       "    }\n",
       "\n",
       "    .dataframe tbody tr th {\n",
       "        vertical-align: top;\n",
       "    }\n",
       "\n",
       "    .dataframe thead th {\n",
       "        text-align: right;\n",
       "    }\n",
       "</style>\n",
       "<table border=\"1\" class=\"dataframe\">\n",
       "  <thead>\n",
       "    <tr style=\"text-align: right;\">\n",
       "      <th></th>\n",
       "      <th>Unnamed: 1</th>\n",
       "      <th>Unnamed: 4</th>\n",
       "    </tr>\n",
       "  </thead>\n",
       "  <tbody>\n",
       "    <tr>\n",
       "      <th>count</th>\n",
       "      <td>291.000000</td>\n",
       "      <td>291.000000</td>\n",
       "    </tr>\n",
       "    <tr>\n",
       "      <th>mean</th>\n",
       "      <td>151.934708</td>\n",
       "      <td>35496.934708</td>\n",
       "    </tr>\n",
       "    <tr>\n",
       "      <th>std</th>\n",
       "      <td>138.092769</td>\n",
       "      <td>74190.464321</td>\n",
       "    </tr>\n",
       "    <tr>\n",
       "      <th>min</th>\n",
       "      <td>1.000000</td>\n",
       "      <td>2019.000000</td>\n",
       "    </tr>\n",
       "    <tr>\n",
       "      <th>25%</th>\n",
       "      <td>73.500000</td>\n",
       "      <td>10005.000000</td>\n",
       "    </tr>\n",
       "    <tr>\n",
       "      <th>50%</th>\n",
       "      <td>146.000000</td>\n",
       "      <td>15940.000000</td>\n",
       "    </tr>\n",
       "    <tr>\n",
       "      <th>75%</th>\n",
       "      <td>218.500000</td>\n",
       "      <td>35649.500000</td>\n",
       "    </tr>\n",
       "    <tr>\n",
       "      <th>max</th>\n",
       "      <td>2019.000000</td>\n",
       "      <td>974073.000000</td>\n",
       "    </tr>\n",
       "  </tbody>\n",
       "</table>\n",
       "</div>"
      ],
      "text/plain": [
       "        Unnamed: 1     Unnamed: 4\n",
       "count   291.000000     291.000000\n",
       "mean    151.934708   35496.934708\n",
       "std     138.092769   74190.464321\n",
       "min       1.000000    2019.000000\n",
       "25%      73.500000   10005.000000\n",
       "50%     146.000000   15940.000000\n",
       "75%     218.500000   35649.500000\n",
       "max    2019.000000  974073.000000"
      ]
     },
     "execution_count": 1254,
     "metadata": {},
     "output_type": "execute_result"
    }
   ],
   "source": [
    "df.describe()"
   ]
  },
  {
   "cell_type": "markdown",
   "metadata": {},
   "source": [
    "---\n",
    "## &nbsp; b) \n",
    "Clean your data so that the head looks like this: (*)\n",
    "\n",
    "\n",
    "|    |   Rang 2020 |   Rang 2019 | Kommun   |   Folkmängd 2020 |   Folkmängd 2019 |   Förändring |\n",
    "|---:|------------:|------------:|:---------|-----------------:|-----------------:|-------------:|\n",
    "|  0 |          83 |          84 | Ale      |            31868 |            31402 |     1.48398  |\n",
    "|  1 |          64 |          64 | Alingsås |            41602 |            41420 |     0.439401 |\n",
    "|  2 |         123 |         123 | Alvesta  |            20224 |            20134 |     0.447005 |\n",
    "|  3 |         255 |         255 | Aneby    |             6821 |             6848 |    -0.394276 |\n",
    "|  4 |         169 |         167 | Arboga   |            14039 |            14087 |    -0.34074  |\n"
   ]
  },
  {
   "cell_type": "code",
   "execution_count": 1255,
   "metadata": {},
   "outputs": [
    {
     "data": {
      "text/html": [
       "<div>\n",
       "<style scoped>\n",
       "    .dataframe tbody tr th:only-of-type {\n",
       "        vertical-align: middle;\n",
       "    }\n",
       "\n",
       "    .dataframe tbody tr th {\n",
       "        vertical-align: top;\n",
       "    }\n",
       "\n",
       "    .dataframe thead th {\n",
       "        text-align: right;\n",
       "    }\n",
       "</style>\n",
       "<table border=\"1\" class=\"dataframe\">\n",
       "  <thead>\n",
       "    <tr style=\"text-align: right;\">\n",
       "      <th></th>\n",
       "      <th>Rang2020</th>\n",
       "      <th>Rang 2019</th>\n",
       "      <th>Kommun</th>\n",
       "      <th>Folkmängd 2020</th>\n",
       "      <th>Folkmängd 2019</th>\n",
       "      <th>Förändring</th>\n",
       "    </tr>\n",
       "  </thead>\n",
       "  <tbody>\n",
       "    <tr>\n",
       "      <th>0</th>\n",
       "      <td>83</td>\n",
       "      <td>84.0</td>\n",
       "      <td>Ale</td>\n",
       "      <td>31868</td>\n",
       "      <td>31402.0</td>\n",
       "      <td>1.483982</td>\n",
       "    </tr>\n",
       "    <tr>\n",
       "      <th>1</th>\n",
       "      <td>64</td>\n",
       "      <td>64.0</td>\n",
       "      <td>Alingsås</td>\n",
       "      <td>41602</td>\n",
       "      <td>41420.0</td>\n",
       "      <td>0.439401</td>\n",
       "    </tr>\n",
       "    <tr>\n",
       "      <th>2</th>\n",
       "      <td>123</td>\n",
       "      <td>123.0</td>\n",
       "      <td>Alvesta</td>\n",
       "      <td>20224</td>\n",
       "      <td>20134.0</td>\n",
       "      <td>0.447005</td>\n",
       "    </tr>\n",
       "    <tr>\n",
       "      <th>3</th>\n",
       "      <td>255</td>\n",
       "      <td>255.0</td>\n",
       "      <td>Aneby</td>\n",
       "      <td>6821</td>\n",
       "      <td>6848.0</td>\n",
       "      <td>-0.394276</td>\n",
       "    </tr>\n",
       "    <tr>\n",
       "      <th>4</th>\n",
       "      <td>169</td>\n",
       "      <td>167.0</td>\n",
       "      <td>Arboga</td>\n",
       "      <td>14039</td>\n",
       "      <td>14087.0</td>\n",
       "      <td>-0.34074</td>\n",
       "    </tr>\n",
       "    <tr>\n",
       "      <th>...</th>\n",
       "      <td>...</td>\n",
       "      <td>...</td>\n",
       "      <td>...</td>\n",
       "      <td>...</td>\n",
       "      <td>...</td>\n",
       "      <td>...</td>\n",
       "    </tr>\n",
       "    <tr>\n",
       "      <th>285</th>\n",
       "      <td>54</td>\n",
       "      <td>55.0</td>\n",
       "      <td>Österåker</td>\n",
       "      <td>46644</td>\n",
       "      <td>45574.0</td>\n",
       "      <td>2.34783</td>\n",
       "    </tr>\n",
       "    <tr>\n",
       "      <th>286</th>\n",
       "      <td>116</td>\n",
       "      <td>115.0</td>\n",
       "      <td>Östhammar</td>\n",
       "      <td>22251</td>\n",
       "      <td>22250.0</td>\n",
       "      <td>0.004494</td>\n",
       "    </tr>\n",
       "    <tr>\n",
       "      <th>287</th>\n",
       "      <td>160</td>\n",
       "      <td>159.0</td>\n",
       "      <td>Östra Göinge</td>\n",
       "      <td>15017</td>\n",
       "      <td>15007.0</td>\n",
       "      <td>0.066636</td>\n",
       "    </tr>\n",
       "    <tr>\n",
       "      <th>288</th>\n",
       "      <td>284</td>\n",
       "      <td>284.0</td>\n",
       "      <td>Överkalix</td>\n",
       "      <td>3289</td>\n",
       "      <td>3315.0</td>\n",
       "      <td>-0.784314</td>\n",
       "    </tr>\n",
       "    <tr>\n",
       "      <th>289</th>\n",
       "      <td>279</td>\n",
       "      <td>279.0</td>\n",
       "      <td>Övertorneå</td>\n",
       "      <td>4217</td>\n",
       "      <td>4299.0</td>\n",
       "      <td>-1.90742</td>\n",
       "    </tr>\n",
       "  </tbody>\n",
       "</table>\n",
       "<p>290 rows × 6 columns</p>\n",
       "</div>"
      ],
      "text/plain": [
       "    Rang2020  Rang 2019        Kommun Folkmängd 2020  Folkmängd 2019  \\\n",
       "0         83       84.0           Ale          31868         31402.0   \n",
       "1         64       64.0      Alingsås          41602         41420.0   \n",
       "2        123      123.0       Alvesta          20224         20134.0   \n",
       "3        255      255.0         Aneby           6821          6848.0   \n",
       "4        169      167.0        Arboga          14039         14087.0   \n",
       "..       ...        ...           ...            ...             ...   \n",
       "285       54       55.0     Österåker          46644         45574.0   \n",
       "286      116      115.0     Östhammar          22251         22250.0   \n",
       "287      160      159.0  Östra Göinge          15017         15007.0   \n",
       "288      284      284.0     Överkalix           3289          3315.0   \n",
       "289      279      279.0    Övertorneå           4217          4299.0   \n",
       "\n",
       "    Förändring  \n",
       "0     1.483982  \n",
       "1     0.439401  \n",
       "2     0.447005  \n",
       "3    -0.394276  \n",
       "4     -0.34074  \n",
       "..         ...  \n",
       "285    2.34783  \n",
       "286   0.004494  \n",
       "287   0.066636  \n",
       "288  -0.784314  \n",
       "289   -1.90742  \n",
       "\n",
       "[290 rows x 6 columns]"
      ]
     },
     "execution_count": 1255,
     "metadata": {},
     "output_type": "execute_result"
    }
   ],
   "source": [
    "df = df.rename(columns = {\"Unnamed: 0\": \"Rang2020\",\n",
    "                    \"Unnamed: 1\": \"Rang 2019\",\n",
    "                    \"Unnamed: 2\": \"Kommun\",\n",
    "                    \"Unnamed: 3\": \"Folkmängd 2020\",\n",
    "                    \"Unnamed: 4\": \"Folkmängd 2019\",\n",
    "                    \"Unnamed: 5\": \"Förändring\"}) # rename columns using dict of {old: new}\n",
    "\n",
    "df = df.drop(df.index[0:6]) # drop all rows from 0-6\n",
    "df.reset_index(drop = True, inplace = True) # reset index count to start from 0, drop old index count\n",
    "df # use inplace = True to mutate values of original DataFram object, otherwise do df_new = df_old"
   ]
  },
  {
   "cell_type": "markdown",
   "metadata": {},
   "source": [
    "---\n",
    "## c) \n",
    "Sort the cities by population from largest to smallest"
   ]
  },
  {
   "cell_type": "code",
   "execution_count": 1256,
   "metadata": {},
   "outputs": [
    {
     "data": {
      "text/html": [
       "<div>\n",
       "<style scoped>\n",
       "    .dataframe tbody tr th:only-of-type {\n",
       "        vertical-align: middle;\n",
       "    }\n",
       "\n",
       "    .dataframe tbody tr th {\n",
       "        vertical-align: top;\n",
       "    }\n",
       "\n",
       "    .dataframe thead th {\n",
       "        text-align: right;\n",
       "    }\n",
       "</style>\n",
       "<table border=\"1\" class=\"dataframe\">\n",
       "  <thead>\n",
       "    <tr style=\"text-align: right;\">\n",
       "      <th></th>\n",
       "      <th>Rang2020</th>\n",
       "      <th>Rang 2019</th>\n",
       "      <th>Kommun</th>\n",
       "      <th>Folkmängd 2020</th>\n",
       "      <th>Folkmängd 2019</th>\n",
       "      <th>Förändring</th>\n",
       "    </tr>\n",
       "  </thead>\n",
       "  <tbody>\n",
       "    <tr>\n",
       "      <th>198</th>\n",
       "      <td>1</td>\n",
       "      <td>1.0</td>\n",
       "      <td>Stockholm</td>\n",
       "      <td>975551</td>\n",
       "      <td>974073.0</td>\n",
       "      <td>0.151734</td>\n",
       "    </tr>\n",
       "    <tr>\n",
       "      <th>57</th>\n",
       "      <td>2</td>\n",
       "      <td>2.0</td>\n",
       "      <td>Göteborg</td>\n",
       "      <td>583056</td>\n",
       "      <td>579281.0</td>\n",
       "      <td>0.65167</td>\n",
       "    </tr>\n",
       "    <tr>\n",
       "      <th>134</th>\n",
       "      <td>3</td>\n",
       "      <td>3.0</td>\n",
       "      <td>Malmö</td>\n",
       "      <td>347949</td>\n",
       "      <td>344166.0</td>\n",
       "      <td>1.099179</td>\n",
       "    </tr>\n",
       "    <tr>\n",
       "      <th>241</th>\n",
       "      <td>4</td>\n",
       "      <td>4.0</td>\n",
       "      <td>Uppsala</td>\n",
       "      <td>233839</td>\n",
       "      <td>230767.0</td>\n",
       "      <td>1.331213</td>\n",
       "    </tr>\n",
       "    <tr>\n",
       "      <th>124</th>\n",
       "      <td>5</td>\n",
       "      <td>5.0</td>\n",
       "      <td>Linköping</td>\n",
       "      <td>164616</td>\n",
       "      <td>163051.0</td>\n",
       "      <td>0.959822</td>\n",
       "    </tr>\n",
       "    <tr>\n",
       "      <th>...</th>\n",
       "      <td>...</td>\n",
       "      <td>...</td>\n",
       "      <td>...</td>\n",
       "      <td>...</td>\n",
       "      <td>...</td>\n",
       "      <td>...</td>\n",
       "    </tr>\n",
       "    <tr>\n",
       "      <th>271</th>\n",
       "      <td>286</td>\n",
       "      <td>286.0</td>\n",
       "      <td>Åsele</td>\n",
       "      <td>2805</td>\n",
       "      <td>2794.0</td>\n",
       "      <td>0.393701</td>\n",
       "    </tr>\n",
       "    <tr>\n",
       "      <th>5</th>\n",
       "      <td>287</td>\n",
       "      <td>287.0</td>\n",
       "      <td>Arjeplog</td>\n",
       "      <td>2718</td>\n",
       "      <td>2785.0</td>\n",
       "      <td>-2.405745</td>\n",
       "    </tr>\n",
       "    <tr>\n",
       "      <th>29</th>\n",
       "      <td>288</td>\n",
       "      <td>288.0</td>\n",
       "      <td>Dorotea</td>\n",
       "      <td>2498</td>\n",
       "      <td>2551.0</td>\n",
       "      <td>-2.077617</td>\n",
       "    </tr>\n",
       "    <tr>\n",
       "      <th>194</th>\n",
       "      <td>289</td>\n",
       "      <td>289.0</td>\n",
       "      <td>Sorsele</td>\n",
       "      <td>2442</td>\n",
       "      <td>2489.0</td>\n",
       "      <td>-1.888309</td>\n",
       "    </tr>\n",
       "    <tr>\n",
       "      <th>12</th>\n",
       "      <td>290</td>\n",
       "      <td>290.0</td>\n",
       "      <td>Bjurholm</td>\n",
       "      <td>2387</td>\n",
       "      <td>2408.0</td>\n",
       "      <td>-0.872093</td>\n",
       "    </tr>\n",
       "  </tbody>\n",
       "</table>\n",
       "<p>290 rows × 6 columns</p>\n",
       "</div>"
      ],
      "text/plain": [
       "    Rang2020  Rang 2019     Kommun Folkmängd 2020  Folkmängd 2019 Förändring\n",
       "198        1        1.0  Stockholm         975551        974073.0   0.151734\n",
       "57         2        2.0   Göteborg         583056        579281.0    0.65167\n",
       "134        3        3.0      Malmö         347949        344166.0   1.099179\n",
       "241        4        4.0    Uppsala         233839        230767.0   1.331213\n",
       "124        5        5.0  Linköping         164616        163051.0   0.959822\n",
       "..       ...        ...        ...            ...             ...        ...\n",
       "271      286      286.0      Åsele           2805          2794.0   0.393701\n",
       "5        287      287.0   Arjeplog           2718          2785.0  -2.405745\n",
       "29       288      288.0    Dorotea           2498          2551.0  -2.077617\n",
       "194      289      289.0    Sorsele           2442          2489.0  -1.888309\n",
       "12       290      290.0   Bjurholm           2387          2408.0  -0.872093\n",
       "\n",
       "[290 rows x 6 columns]"
      ]
     },
     "execution_count": 1256,
     "metadata": {},
     "output_type": "execute_result"
    }
   ],
   "source": [
    "df_sorted = df.sort_values(\"Folkmängd 2020\", ascending = False)\n",
    "df_sorted"
   ]
  },
  {
   "cell_type": "markdown",
   "metadata": {},
   "source": [
    "---\n",
    "## d) \n",
    "Filter out the five smallest cities"
   ]
  },
  {
   "cell_type": "code",
   "execution_count": 1257,
   "metadata": {},
   "outputs": [
    {
     "data": {
      "text/html": [
       "<div>\n",
       "<style scoped>\n",
       "    .dataframe tbody tr th:only-of-type {\n",
       "        vertical-align: middle;\n",
       "    }\n",
       "\n",
       "    .dataframe tbody tr th {\n",
       "        vertical-align: top;\n",
       "    }\n",
       "\n",
       "    .dataframe thead th {\n",
       "        text-align: right;\n",
       "    }\n",
       "</style>\n",
       "<table border=\"1\" class=\"dataframe\">\n",
       "  <thead>\n",
       "    <tr style=\"text-align: right;\">\n",
       "      <th></th>\n",
       "      <th>Rang2020</th>\n",
       "      <th>Rang 2019</th>\n",
       "      <th>Kommun</th>\n",
       "      <th>Folkmängd 2020</th>\n",
       "      <th>Folkmängd 2019</th>\n",
       "      <th>Förändring</th>\n",
       "    </tr>\n",
       "  </thead>\n",
       "  <tbody>\n",
       "    <tr>\n",
       "      <th>198</th>\n",
       "      <td>1</td>\n",
       "      <td>1.0</td>\n",
       "      <td>Stockholm</td>\n",
       "      <td>975551</td>\n",
       "      <td>974073.0</td>\n",
       "      <td>0.151734</td>\n",
       "    </tr>\n",
       "    <tr>\n",
       "      <th>57</th>\n",
       "      <td>2</td>\n",
       "      <td>2.0</td>\n",
       "      <td>Göteborg</td>\n",
       "      <td>583056</td>\n",
       "      <td>579281.0</td>\n",
       "      <td>0.65167</td>\n",
       "    </tr>\n",
       "    <tr>\n",
       "      <th>134</th>\n",
       "      <td>3</td>\n",
       "      <td>3.0</td>\n",
       "      <td>Malmö</td>\n",
       "      <td>347949</td>\n",
       "      <td>344166.0</td>\n",
       "      <td>1.099179</td>\n",
       "    </tr>\n",
       "    <tr>\n",
       "      <th>241</th>\n",
       "      <td>4</td>\n",
       "      <td>4.0</td>\n",
       "      <td>Uppsala</td>\n",
       "      <td>233839</td>\n",
       "      <td>230767.0</td>\n",
       "      <td>1.331213</td>\n",
       "    </tr>\n",
       "    <tr>\n",
       "      <th>124</th>\n",
       "      <td>5</td>\n",
       "      <td>5.0</td>\n",
       "      <td>Linköping</td>\n",
       "      <td>164616</td>\n",
       "      <td>163051.0</td>\n",
       "      <td>0.959822</td>\n",
       "    </tr>\n",
       "    <tr>\n",
       "      <th>...</th>\n",
       "      <td>...</td>\n",
       "      <td>...</td>\n",
       "      <td>...</td>\n",
       "      <td>...</td>\n",
       "      <td>...</td>\n",
       "      <td>...</td>\n",
       "    </tr>\n",
       "    <tr>\n",
       "      <th>157</th>\n",
       "      <td>281</td>\n",
       "      <td>281.0</td>\n",
       "      <td>Norsjö</td>\n",
       "      <td>3945</td>\n",
       "      <td>3986.0</td>\n",
       "      <td>-1.0286</td>\n",
       "    </tr>\n",
       "    <tr>\n",
       "      <th>265</th>\n",
       "      <td>282</td>\n",
       "      <td>282.0</td>\n",
       "      <td>Ydre</td>\n",
       "      <td>3726</td>\n",
       "      <td>3747.0</td>\n",
       "      <td>-0.560448</td>\n",
       "    </tr>\n",
       "    <tr>\n",
       "      <th>146</th>\n",
       "      <td>283</td>\n",
       "      <td>283.0</td>\n",
       "      <td>Munkfors</td>\n",
       "      <td>3725</td>\n",
       "      <td>3740.0</td>\n",
       "      <td>-0.40107</td>\n",
       "    </tr>\n",
       "    <tr>\n",
       "      <th>288</th>\n",
       "      <td>284</td>\n",
       "      <td>284.0</td>\n",
       "      <td>Överkalix</td>\n",
       "      <td>3289</td>\n",
       "      <td>3315.0</td>\n",
       "      <td>-0.784314</td>\n",
       "    </tr>\n",
       "    <tr>\n",
       "      <th>136</th>\n",
       "      <td>285</td>\n",
       "      <td>285.0</td>\n",
       "      <td>Malå</td>\n",
       "      <td>3024</td>\n",
       "      <td>3068.0</td>\n",
       "      <td>-1.434159</td>\n",
       "    </tr>\n",
       "  </tbody>\n",
       "</table>\n",
       "<p>285 rows × 6 columns</p>\n",
       "</div>"
      ],
      "text/plain": [
       "    Rang2020  Rang 2019     Kommun Folkmängd 2020  Folkmängd 2019 Förändring\n",
       "198        1        1.0  Stockholm         975551        974073.0   0.151734\n",
       "57         2        2.0   Göteborg         583056        579281.0    0.65167\n",
       "134        3        3.0      Malmö         347949        344166.0   1.099179\n",
       "241        4        4.0    Uppsala         233839        230767.0   1.331213\n",
       "124        5        5.0  Linköping         164616        163051.0   0.959822\n",
       "..       ...        ...        ...            ...             ...        ...\n",
       "157      281      281.0     Norsjö           3945          3986.0    -1.0286\n",
       "265      282      282.0       Ydre           3726          3747.0  -0.560448\n",
       "146      283      283.0   Munkfors           3725          3740.0   -0.40107\n",
       "288      284      284.0  Överkalix           3289          3315.0  -0.784314\n",
       "136      285      285.0       Malå           3024          3068.0  -1.434159\n",
       "\n",
       "[285 rows x 6 columns]"
      ]
     },
     "execution_count": 1257,
     "metadata": {},
     "output_type": "execute_result"
    }
   ],
   "source": [
    "df_sorted_exclude_smallest = df_sorted.head(-5)\n",
    "df_sorted_exclude_smallest"
   ]
  },
  {
   "cell_type": "markdown",
   "metadata": {},
   "source": [
    "---\n",
    "## e) \n",
    "Use the DataFrame to calculate Sweden's population in 2019 and 2020"
   ]
  },
  {
   "cell_type": "code",
   "execution_count": 1258,
   "metadata": {},
   "outputs": [
    {
     "data": {
      "text/plain": [
       "10379295"
      ]
     },
     "execution_count": 1258,
     "metadata": {},
     "output_type": "execute_result"
    }
   ],
   "source": [
    "pop2020 = sum(df_sorted[\"Folkmängd 2020\"])\n",
    "pop2020"
   ]
  },
  {
   "cell_type": "code",
   "execution_count": 1259,
   "metadata": {},
   "outputs": [
    {
     "data": {
      "text/plain": [
       "10327589.0"
      ]
     },
     "execution_count": 1259,
     "metadata": {},
     "output_type": "execute_result"
    }
   ],
   "source": [
    "pop2019 = sum(df_sorted[\"Folkmängd 2019\"])\n",
    "pop2019"
   ]
  },
  {
   "cell_type": "markdown",
   "metadata": {},
   "source": [
    "---\n",
    "## f) \n",
    "Plot a bar chart for the five largest cities and the five smallest cities"
   ]
  },
  {
   "cell_type": "code",
   "execution_count": 1260,
   "metadata": {},
   "outputs": [
    {
     "data": {
      "image/png": "[encoded data removed]",
      "text/plain": [
       "<Figure size 1200x600 with 2 Axes>"
      ]
     },
     "metadata": {},
     "output_type": "display_data"
    }
   ],
   "source": [
    "import matplotlib.pyplot as plt\n",
    "\n",
    "df_largest = df_sorted.head()\n",
    "df_smallest = df_sorted.tail()\n",
    "\n",
    "fig, ax = plt.subplots(1,2, figsize = (12, 6))\n",
    "\n",
    "data_frames = (df_largest, df_smallest)\n",
    "titles = (\"5 Largest Cities\", \"5 Smallest Cities\")\n",
    "x_columns = [\"Kommun\", \"Kommun\"]\n",
    "\n",
    "for i, (data_frame, title) in enumerate(zip(data_frames, titles)):\n",
    "    sns.barplot(data = data_frame, x = x_columns[i], y = \"Folkmängd 2020\", ax = ax[i])\n",
    "    ax[i].set(title = title)"
   ]
  },
  {
   "cell_type": "markdown",
   "metadata": {},
   "source": [
    "# 3. Cities in Sweden - gender (*)\n",
    "We continue with the same Excel-file as in task 2, but now you should also read in the sheets \"Kvinnor\" and \"Män\" into two additional DataFrames.  \n",
    "In this task, many operations are similar to all three datasets, try creating custom made functions to reuse as much code as possible."
   ]
  },
  {
   "cell_type": "code",
   "execution_count": 1261,
   "metadata": {},
   "outputs": [
    {
     "data": {
      "text/html": [
       "<div>\n",
       "<style scoped>\n",
       "    .dataframe tbody tr th:only-of-type {\n",
       "        vertical-align: middle;\n",
       "    }\n",
       "\n",
       "    .dataframe tbody tr th {\n",
       "        vertical-align: top;\n",
       "    }\n",
       "\n",
       "    .dataframe thead th {\n",
       "        text-align: right;\n",
       "    }\n",
       "</style>\n",
       "<table border=\"1\" class=\"dataframe\">\n",
       "  <thead>\n",
       "    <tr style=\"text-align: right;\">\n",
       "      <th></th>\n",
       "      <th>2020</th>\n",
       "      <th>2019</th>\n",
       "      <th>Unnamed: 2</th>\n",
       "      <th>2020.1</th>\n",
       "      <th>2019.1</th>\n",
       "      <th>%</th>\n",
       "    </tr>\n",
       "  </thead>\n",
       "  <tbody>\n",
       "    <tr>\n",
       "      <th>0</th>\n",
       "      <td>84</td>\n",
       "      <td>85</td>\n",
       "      <td>Ale</td>\n",
       "      <td>15612</td>\n",
       "      <td>15348</td>\n",
       "      <td>1.720094</td>\n",
       "    </tr>\n",
       "    <tr>\n",
       "      <th>1</th>\n",
       "      <td>64</td>\n",
       "      <td>64</td>\n",
       "      <td>Alingsås</td>\n",
       "      <td>20900</td>\n",
       "      <td>20774</td>\n",
       "      <td>0.606527</td>\n",
       "    </tr>\n",
       "    <tr>\n",
       "      <th>2</th>\n",
       "      <td>123</td>\n",
       "      <td>123</td>\n",
       "      <td>Alvesta</td>\n",
       "      <td>9857</td>\n",
       "      <td>9795</td>\n",
       "      <td>0.632976</td>\n",
       "    </tr>\n",
       "    <tr>\n",
       "      <th>3</th>\n",
       "      <td>255</td>\n",
       "      <td>255</td>\n",
       "      <td>Aneby</td>\n",
       "      <td>3318</td>\n",
       "      <td>3350</td>\n",
       "      <td>-0.955224</td>\n",
       "    </tr>\n",
       "    <tr>\n",
       "      <th>4</th>\n",
       "      <td>165</td>\n",
       "      <td>164</td>\n",
       "      <td>Arboga</td>\n",
       "      <td>6945</td>\n",
       "      <td>6973</td>\n",
       "      <td>-0.401549</td>\n",
       "    </tr>\n",
       "  </tbody>\n",
       "</table>\n",
       "</div>"
      ],
      "text/plain": [
       "   2020  2019 Unnamed: 2  2020.1  2019.1         %\n",
       "0    84    85        Ale   15612   15348  1.720094\n",
       "1    64    64   Alingsås   20900   20774  0.606527\n",
       "2   123   123    Alvesta    9857    9795  0.632976\n",
       "3   255   255      Aneby    3318    3350 -0.955224\n",
       "4   165   164     Arboga    6945    6973 -0.401549"
      ]
     },
     "execution_count": 1261,
     "metadata": {},
     "output_type": "execute_result"
    }
   ],
   "source": [
    "file_path = \"../Data/komtopp50_2020.xlsx\"\n",
    "sheet_names = [\"Kvinnor\", \"Män\"]\n",
    "\n",
    "df_dict = pd.read_excel(file_path, sheet_name=sheet_names, header=6) # reading 3 sheets, stored as dict\n",
    "\n",
    "df_dict[\"Kvinnor\"].head()\n"
   ]
  },
  {
   "cell_type": "markdown",
   "metadata": {},
   "source": [
    "---\n",
    "## a) \n",
    "Clean your data so that the head looks like this: (*)\n",
    "\n",
    "Male: \n",
    "\n",
    "|    |   Rang 2020 |   Rang 2019 | Kommun   |   Folkmängd 2020 |   Folkmängd 2019 |   Förändring | Kön   |\n",
    "|---:|------------:|------------:|:---------|-----------------:|-----------------:|-------------:|:------|\n",
    "|  0 |          81 |          83 | Ale      |            16256 |            16054 |     1.25825  | Man   |\n",
    "|  1 |          64 |          64 | Alingsås |            20702 |            20646 |     0.271239 | Man   |\n",
    "|  2 |         122 |         123 | Alvesta  |            10367 |            10339 |     0.270819 | Man   |\n",
    "|  3 |         255 |         255 | Aneby    |             3503 |             3498 |     0.142939 | Man   |\n",
    "|  4 |         169 |         168 | Arboga   |             7094 |             7114 |    -0.281136 | Man   |\n",
    "\n",
    "Female: \n",
    "\n",
    "|    |   Rang 2020 |   Rang 2019 | Kommun   |   Folkmängd 2020 |   Folkmängd 2019 |   Förändring | Kön    |\n",
    "|---:|------------:|------------:|:---------|-----------------:|-----------------:|-------------:|:-------|\n",
    "|  0 |          84 |          85 | Ale      |            15612 |            15348 |     1.72009  | Kvinna |\n",
    "|  1 |          64 |          64 | Alingsås |            20900 |            20774 |     0.606527 | Kvinna |\n",
    "|  2 |         123 |         123 | Alvesta  |             9857 |             9795 |     0.632976 | Kvinna |\n",
    "|  3 |         255 |         255 | Aneby    |             3318 |             3350 |    -0.955224 | Kvinna |\n",
    "|  4 |         165 |         164 | Arboga   |             6945 |             6973 |    -0.401549 | Kvinna |\n"
   ]
  },
  {
   "cell_type": "code",
   "execution_count": 1262,
   "metadata": {},
   "outputs": [
    {
     "data": {
      "text/html": [
       "<div>\n",
       "<style scoped>\n",
       "    .dataframe tbody tr th:only-of-type {\n",
       "        vertical-align: middle;\n",
       "    }\n",
       "\n",
       "    .dataframe tbody tr th {\n",
       "        vertical-align: top;\n",
       "    }\n",
       "\n",
       "    .dataframe thead th {\n",
       "        text-align: right;\n",
       "    }\n",
       "</style>\n",
       "<table border=\"1\" class=\"dataframe\">\n",
       "  <thead>\n",
       "    <tr style=\"text-align: right;\">\n",
       "      <th></th>\n",
       "      <th>2020</th>\n",
       "      <th>2019</th>\n",
       "      <th>Unnamed: 2</th>\n",
       "      <th>2020.1</th>\n",
       "      <th>2019.1</th>\n",
       "      <th>%</th>\n",
       "    </tr>\n",
       "  </thead>\n",
       "  <tbody>\n",
       "    <tr>\n",
       "      <th>0</th>\n",
       "      <td>84</td>\n",
       "      <td>85</td>\n",
       "      <td>Ale</td>\n",
       "      <td>15612</td>\n",
       "      <td>15348</td>\n",
       "      <td>1.720094</td>\n",
       "    </tr>\n",
       "  </tbody>\n",
       "</table>\n",
       "</div>"
      ],
      "text/plain": [
       "   2020  2019 Unnamed: 2  2020.1  2019.1         %\n",
       "0    84    85        Ale   15612   15348  1.720094"
      ]
     },
     "execution_count": 1262,
     "metadata": {},
     "output_type": "execute_result"
    }
   ],
   "source": [
    "df_dict[\"Kvinnor\"].head(1)"
   ]
  },
  {
   "cell_type": "code",
   "execution_count": 1263,
   "metadata": {},
   "outputs": [
    {
     "data": {
      "text/html": [
       "<div>\n",
       "<style scoped>\n",
       "    .dataframe tbody tr th:only-of-type {\n",
       "        vertical-align: middle;\n",
       "    }\n",
       "\n",
       "    .dataframe tbody tr th {\n",
       "        vertical-align: top;\n",
       "    }\n",
       "\n",
       "    .dataframe thead th {\n",
       "        text-align: right;\n",
       "    }\n",
       "</style>\n",
       "<table border=\"1\" class=\"dataframe\">\n",
       "  <thead>\n",
       "    <tr style=\"text-align: right;\">\n",
       "      <th></th>\n",
       "      <th>Rang 2020</th>\n",
       "      <th>Rang 2019</th>\n",
       "      <th>Kommun</th>\n",
       "      <th>Folkmängd 2020</th>\n",
       "      <th>Folkmängd 2019</th>\n",
       "      <th>Förändring</th>\n",
       "      <th>Kön</th>\n",
       "    </tr>\n",
       "  </thead>\n",
       "  <tbody>\n",
       "    <tr>\n",
       "      <th>0</th>\n",
       "      <td>84</td>\n",
       "      <td>85</td>\n",
       "      <td>Ale</td>\n",
       "      <td>15612</td>\n",
       "      <td>15348</td>\n",
       "      <td>1.720094</td>\n",
       "      <td>Kvinnor</td>\n",
       "    </tr>\n",
       "  </tbody>\n",
       "</table>\n",
       "</div>"
      ],
      "text/plain": [
       "   Rang 2020  Rang 2019 Kommun  Folkmängd 2020  Folkmängd 2019 Förändring  \\\n",
       "0         84         85    Ale           15612           15348   1.720094   \n",
       "\n",
       "       Kön  \n",
       "0  Kvinnor  "
      ]
     },
     "execution_count": 1263,
     "metadata": {},
     "output_type": "execute_result"
    }
   ],
   "source": [
    "for sheet_name in df_dict:  # updating missing column name of all DataFrames in dict:\n",
    "    df_dict[sheet_name].rename(\n",
    "        columns={\n",
    "            2020: \"Rang 2020\",\n",
    "            2019: \"Rang 2019\",\n",
    "            \"Unnamed: 2\": \"Kommun\",\n",
    "            \"2020.1\": \"Folkmängd 2020\",\n",
    "            \"2019.1\": \"Folkmängd 2019\",\n",
    "            \"%\": \"Förändring\",\n",
    "        },\n",
    "        inplace=True,\n",
    "    )\n",
    "    df_dict[sheet_name][\"Kön\"] = sheet_name # adding column \"Kön\" with the respective value \"Kvinnor\" and \"Män\"\n",
    "\n",
    "df_dict[\"Kvinnor\"].head(1)\n"
   ]
  },
  {
   "cell_type": "markdown",
   "metadata": {},
   "source": [
    "---\n",
    "## b) \n",
    "Merge the male and female DataFrames vertically and set index to \"Kommun\". Note that there now should be 580 rows now.  (*)\n",
    "\n",
    "|    | Kommun   |   Folkmängd 2020 |   Folkmängd 2019 |   Förändring | Kön   |\n",
    "|---:|:---------|-----------------:|-----------------:|-------------:|:------|\n",
    "|  0 | Ale      |            16256 |            16054 |     1.25825  | Man   |\n",
    "|  1 | Alingsås |            20702 |            20646 |     0.271239 | Man   |\n",
    "|   ...  | ...       | ...  | ...   | ...  | ...    |\n",
    "| 288 | Överkalix    |             1559 |             1578 |    -1.20406  | Kvinna |\n",
    "| 289 | Övertorneå   |             2027 |             2065 |    -1.84019  | Kvinna |"
   ]
  },
  {
   "cell_type": "code",
   "execution_count": 1264,
   "metadata": {},
   "outputs": [
    {
     "data": {
      "text/html": [
       "<div>\n",
       "<style scoped>\n",
       "    .dataframe tbody tr th:only-of-type {\n",
       "        vertical-align: middle;\n",
       "    }\n",
       "\n",
       "    .dataframe tbody tr th {\n",
       "        vertical-align: top;\n",
       "    }\n",
       "\n",
       "    .dataframe thead th {\n",
       "        text-align: right;\n",
       "    }\n",
       "</style>\n",
       "<table border=\"1\" class=\"dataframe\">\n",
       "  <thead>\n",
       "    <tr style=\"text-align: right;\">\n",
       "      <th></th>\n",
       "      <th>Kommun</th>\n",
       "      <th>Folkmängd 2020</th>\n",
       "      <th>Folkmängd 2019</th>\n",
       "      <th>Förändring</th>\n",
       "      <th>Kön</th>\n",
       "    </tr>\n",
       "  </thead>\n",
       "  <tbody>\n",
       "    <tr>\n",
       "      <th>0</th>\n",
       "      <td>Ale</td>\n",
       "      <td>15612</td>\n",
       "      <td>15348</td>\n",
       "      <td>1.720094</td>\n",
       "      <td>Kvinnor</td>\n",
       "    </tr>\n",
       "    <tr>\n",
       "      <th>0</th>\n",
       "      <td>Ale</td>\n",
       "      <td>16256</td>\n",
       "      <td>16054</td>\n",
       "      <td>1.258253</td>\n",
       "      <td>Män</td>\n",
       "    </tr>\n",
       "  </tbody>\n",
       "</table>\n",
       "</div>"
      ],
      "text/plain": [
       "  Kommun  Folkmängd 2020  Folkmängd 2019 Förändring      Kön\n",
       "0    Ale           15612           15348   1.720094  Kvinnor\n",
       "0    Ale           16256           16054   1.258253      Män"
      ]
     },
     "execution_count": 1264,
     "metadata": {},
     "output_type": "execute_result"
    }
   ],
   "source": [
    "df_merged = pd.concat((df_dict[sheet] for sheet in df_dict)).drop([\"Rang 2020\", \"Rang 2019\"], axis = \"columns\")\n",
    "df_merged[df_merged[\"Kommun\"] == \"Ale\"]\n"
   ]
  },
  {
   "cell_type": "code",
   "execution_count": 1265,
   "metadata": {},
   "outputs": [],
   "source": [
    "#df_merged.set_index(\"Kommun\", inplace = True) # changing index to \"Kommun\""
   ]
  },
  {
   "cell_type": "code",
   "execution_count": 1266,
   "metadata": {},
   "outputs": [
    {
     "data": {
      "text/plain": [
       "(10379295, 10379295, True)"
      ]
     },
     "execution_count": 1266,
     "metadata": {},
     "output_type": "execute_result"
    }
   ],
   "source": [
    "# checking if data is correct (2020 pop):\n",
    "df[\"Folkmängd 2020\"].sum(), df_merged[\"Folkmängd 2020\"].sum(), df[\"Folkmängd 2020\"].sum() == df_merged[\"Folkmängd 2020\"].sum()"
   ]
  },
  {
   "cell_type": "code",
   "execution_count": 1267,
   "metadata": {},
   "outputs": [
    {
     "data": {
      "text/plain": [
       "(10327589.0, 10327589, True)"
      ]
     },
     "execution_count": 1267,
     "metadata": {},
     "output_type": "execute_result"
    }
   ],
   "source": [
    "# checking if data is correct (2019 pop):\n",
    "df[\"Folkmängd 2019\"].sum(), df_merged[\"Folkmängd 2019\"].sum(), df[\"Folkmängd 2019\"].sum() == df_merged[\"Folkmängd 2019\"].sum()"
   ]
  },
  {
   "cell_type": "markdown",
   "metadata": {},
   "source": [
    "---\n",
    "## c) \n",
    "Extract and change column name from the total DataFrame so that the head look like this: (*) \n",
    "\n",
    "|    | Kommun   |   Total Pop 2020 |   Total Pop 2019 |   Total förändring |\n",
    "|---:|:---------|-----------------:|-----------------:|-------------------:|\n",
    "|  0 | Ale      |            31868 |            31402 |           1.48398  |\n",
    "|  1 | Alingsås |            41602 |            41420 |           0.439401 |\n",
    "|  2 | Alvesta  |            20224 |            20134 |           0.447005 |\n",
    "|  3 | Aneby    |             6821 |             6848 |          -0.394276 |\n",
    "|  4 | Arboga   |            14039 |            14087 |          -0.34074  |"
   ]
  },
  {
   "cell_type": "code",
   "execution_count": 1268,
   "metadata": {},
   "outputs": [],
   "source": [
    "df.rename(\n",
    "    columns={\n",
    "        \"Folkmängd 2020\": \"Total Pop 2020\",\n",
    "        \"Folkmängd 2019\": \"Total Pop 2019\",\n",
    "        \"Förändring\": \"Total Förändring\",\n",
    "    },\n",
    "    inplace=True,\n",
    ")\n",
    "\n",
    "df.drop([\"Rang2020\", \"Rang 2019\"], axis=\"columns\", inplace=True)\n",
    "\n",
    "#df.set_index(\"Kommun\", inplace = True)\n"
   ]
  },
  {
   "cell_type": "markdown",
   "metadata": {},
   "source": [
    "---\n",
    "## d) \n",
    "Merge this data with the data in b) so that the head look like this: (*)\n",
    "\n",
    "| Kommun    |   Folkmängd 2020 |   Folkmängd 2019 |   Förändring | Kön    |   Total Pop 2020 |   Total Pop 2019 |   Total förändring |\n",
    "|:----------|-----------------:|-----------------:|-------------:|:-------|-----------------:|-----------------:|-------------------:|\n",
    "| Stockholm |           482982 |           482220 |     0.158019 | Man    |           975551 |           974073 |           0.151734 |\n",
    "| Stockholm |           492569 |           491853 |     0.145572 | Kvinna |           975551 |           974073 |           0.151734 |\n",
    "| Göteborg  |           292505 |           290308 |     0.756782 | Man    |           583056 |           579281 |           0.65167  |\n",
    "| Göteborg  |           290551 |           288973 |     0.546072 | Kvinna |           583056 |           579281 |           0.65167  |\n",
    "| Malmö     |           175411 |           173543 |     1.07639  | Kvinna |           347949 |           344166 |           1.09918  |"
   ]
  },
  {
   "cell_type": "code",
   "execution_count": 1269,
   "metadata": {},
   "outputs": [
    {
     "data": {
      "text/html": [
       "<div>\n",
       "<style scoped>\n",
       "    .dataframe tbody tr th:only-of-type {\n",
       "        vertical-align: middle;\n",
       "    }\n",
       "\n",
       "    .dataframe tbody tr th {\n",
       "        vertical-align: top;\n",
       "    }\n",
       "\n",
       "    .dataframe thead th {\n",
       "        text-align: right;\n",
       "    }\n",
       "</style>\n",
       "<table border=\"1\" class=\"dataframe\">\n",
       "  <thead>\n",
       "    <tr style=\"text-align: right;\">\n",
       "      <th></th>\n",
       "      <th>Kommun</th>\n",
       "      <th>Folkmängd 2020</th>\n",
       "      <th>Folkmängd 2019</th>\n",
       "      <th>Förändring</th>\n",
       "      <th>Kön</th>\n",
       "      <th>Total Pop 2020</th>\n",
       "      <th>Total Pop 2019</th>\n",
       "      <th>Total Förändring</th>\n",
       "    </tr>\n",
       "  </thead>\n",
       "  <tbody>\n",
       "    <tr>\n",
       "      <th>198</th>\n",
       "      <td>Stockholm</td>\n",
       "      <td>492569</td>\n",
       "      <td>491853</td>\n",
       "      <td>0.145572</td>\n",
       "      <td>Kvinnor</td>\n",
       "      <td>975551</td>\n",
       "      <td>974073.0</td>\n",
       "      <td>0.151734</td>\n",
       "    </tr>\n",
       "    <tr>\n",
       "      <th>198</th>\n",
       "      <td>Stockholm</td>\n",
       "      <td>482982</td>\n",
       "      <td>482220</td>\n",
       "      <td>0.158019</td>\n",
       "      <td>Män</td>\n",
       "      <td>975551</td>\n",
       "      <td>974073.0</td>\n",
       "      <td>0.151734</td>\n",
       "    </tr>\n",
       "    <tr>\n",
       "      <th>57</th>\n",
       "      <td>Göteborg</td>\n",
       "      <td>290551</td>\n",
       "      <td>288973</td>\n",
       "      <td>0.546072</td>\n",
       "      <td>Kvinnor</td>\n",
       "      <td>583056</td>\n",
       "      <td>579281.0</td>\n",
       "      <td>0.65167</td>\n",
       "    </tr>\n",
       "    <tr>\n",
       "      <th>57</th>\n",
       "      <td>Göteborg</td>\n",
       "      <td>292505</td>\n",
       "      <td>290308</td>\n",
       "      <td>0.756782</td>\n",
       "      <td>Män</td>\n",
       "      <td>583056</td>\n",
       "      <td>579281.0</td>\n",
       "      <td>0.65167</td>\n",
       "    </tr>\n",
       "    <tr>\n",
       "      <th>134</th>\n",
       "      <td>Malmö</td>\n",
       "      <td>175411</td>\n",
       "      <td>173543</td>\n",
       "      <td>1.07639</td>\n",
       "      <td>Kvinnor</td>\n",
       "      <td>347949</td>\n",
       "      <td>344166.0</td>\n",
       "      <td>1.099179</td>\n",
       "    </tr>\n",
       "  </tbody>\n",
       "</table>\n",
       "</div>"
      ],
      "text/plain": [
       "        Kommun  Folkmängd 2020  Folkmängd 2019 Förändring      Kön  \\\n",
       "198  Stockholm          492569          491853   0.145572  Kvinnor   \n",
       "198  Stockholm          482982          482220   0.158019      Män   \n",
       "57    Göteborg          290551          288973   0.546072  Kvinnor   \n",
       "57    Göteborg          292505          290308   0.756782      Män   \n",
       "134      Malmö          175411          173543    1.07639  Kvinnor   \n",
       "\n",
       "    Total Pop 2020  Total Pop 2019 Total Förändring  \n",
       "198         975551        974073.0         0.151734  \n",
       "198         975551        974073.0         0.151734  \n",
       "57          583056        579281.0          0.65167  \n",
       "57          583056        579281.0          0.65167  \n",
       "134         347949        344166.0         1.099179  "
      ]
     },
     "execution_count": 1269,
     "metadata": {},
     "output_type": "execute_result"
    }
   ],
   "source": [
    "merges = [\"Total Pop 2020\", \"Total Pop 2019\", \"Total Förändring\"] # columns to merge\n",
    "\n",
    "for column in merges: # add columns:\n",
    "    df_merged[column] = df[column]\n",
    "\n",
    "df_merged.sort_values(by = \"Total Pop 2020\", ascending = False, inplace = True) # sort to match example output\n",
    "\n",
    "df_merged.head()"
   ]
  },
  {
   "cell_type": "markdown",
   "metadata": {},
   "source": [
    "---\n",
    "## e) \n",
    "Create barplots showing the gender populations of Swedens 10 largest and 10 smallest cities"
   ]
  },
  {
   "cell_type": "code",
   "execution_count": 1270,
   "metadata": {},
   "outputs": [
    {
     "data": {
      "image/png": "[encoded data removed]",
      "text/plain": [
       "<Figure size 1920x480 with 2 Axes>"
      ]
     },
     "metadata": {},
     "output_type": "display_data"
    }
   ],
   "source": [
    "fig, axes = plt.subplots(1, 2, figsize=(16, 4), dpi=120)\n",
    "titles = [\n",
    "    \"10 largest cities in Sweden by population\",\n",
    "    \"10 smallest cities in Sweden by population\",\n",
    "]\n",
    "data_frames = [df_merged.head(20), df_merged.tail(20)]\n",
    "\n",
    "for i, data in enumerate(data_frames):\n",
    "    sns.barplot(data=data, x=\"Kommun\", y=\"Total Pop 2020\", ax=axes[i])\n",
    "    axes[i].set_xticklabels(axes[i].get_xticklabels(), rotation=90)\n",
    "    axes[i].set_title(titles[i])\n"
   ]
  },
  {
   "cell_type": "markdown",
   "metadata": {},
   "source": [
    "---\n",
    "## f) \n",
    "Create a pie chart showing the total male and female population in Sweden 2020"
   ]
  },
  {
   "cell_type": "markdown",
   "metadata": {},
   "source": [
    "---\n",
    "## g) \n",
    "Create a barplot showing the cities with the five largest percentual gender difference in 2020"
   ]
  },
  {
   "cell_type": "markdown",
   "metadata": {},
   "source": [
    "---\n",
    "## h) \n",
    "Create a barplot showing the top 5 cities with largest populational growth from 2019 to 2020"
   ]
  },
  {
   "cell_type": "markdown",
   "metadata": {},
   "source": [
    "---\n",
    "## i) \n",
    "Feel free to investigate other questions you are interested in using these datasets"
   ]
  }
 ],
 "metadata": {
  "kernelspec": {
   "display_name": "Python 3.9.13 ('Databehandling-Andreas-Svensson-UkaTOGrF')",
   "language": "python",
   "name": "python3"
  },
  "language_info": {
   "codemirror_mode": {
    "name": "ipython",
    "version": 3
   },
   "file_extension": ".py",
   "mimetype": "text/x-python",
   "name": "python",
   "nbconvert_exporter": "python",
   "pygments_lexer": "ipython3",
   "version": "3.9.13"
  },
  "orig_nbformat": 4,
  "vscode": {
   "interpreter": {
    "hash": "e71422bb2ef37b6d8b51ef7b9f84e46fd3fe992dffcd80aef8c047527c10b435"
   }
  }
 },
 "nbformat": 4,
 "nbformat_minor": 2
}
