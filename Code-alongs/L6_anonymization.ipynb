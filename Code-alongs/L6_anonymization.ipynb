{
 "cells": [
  {
   "cell_type": "markdown",
   "metadata": {},
   "source": [
    "# Anonymization\n",
    "\n",
    "- pseudoanonymization\n"
   ]
  },
  {
   "cell_type": "code",
   "execution_count": 10,
   "metadata": {},
   "outputs": [
    {
     "data": {
      "text/plain": [
       "('919508f6494495c4bbebc2c87f3dee7b9245bebcd462ec1591fedc5e7fca0386',\n",
       " '98b8b43ac8e49f673fd150ebf3d8c39fc4f5a76edfee2b4150a17757d2f58743',\n",
       " 'b63be869d16db98be19b6661eb7bca5730bd6050b9943e523bb6e128d31466e5')"
      ]
     },
     "execution_count": 10,
     "metadata": {},
     "output_type": "execute_result"
    }
   ],
   "source": [
    "import hashlib as hl\n",
    "\n",
    "string_to_hash = \"supersäkert_lösen0rd\".encode()\n",
    "string_to_hash2= \"Supersäkert_lösen0rd\".encode()\n",
    "string_to_hash3= \"ド私\".encode()\n",
    "\n",
    "hl.sha256(string_to_hash).hexdigest(), hl.sha256(string_to_hash2).hexdigest(), hl.sha256(string_to_hash3).hexdigest()\n"
   ]
  },
  {
   "cell_type": "code",
   "execution_count": 9,
   "metadata": {},
   "outputs": [
    {
     "data": {
      "text/plain": [
       "b'\\xe3\\x83\\x89\\xe7\\xa7\\x81'"
      ]
     },
     "execution_count": 9,
     "metadata": {},
     "output_type": "execute_result"
    }
   ],
   "source": [
    "string_to_hash3 = \"ド私\".encode()\n",
    "string_to_hash3"
   ]
  },
  {
   "cell_type": "code",
   "execution_count": 11,
   "metadata": {},
   "outputs": [
    {
     "data": {
      "text/plain": [
       "True"
      ]
     },
     "execution_count": 11,
     "metadata": {},
     "output_type": "execute_result"
    }
   ],
   "source": [
    "hl.sha256(string_to_hash).hexdigest() == hl.sha256(\"supersäkert_lösen0rd\".encode()).hexdigest()"
   ]
  },
  {
   "cell_type": "code",
   "execution_count": null,
   "metadata": {},
   "outputs": [],
   "source": []
  }
 ],
 "metadata": {
  "kernelspec": {
   "display_name": "Python 3.9.13 ('Databehandling-Andreas-Svensson-UkaTOGrF')",
   "language": "python",
   "name": "python3"
  },
  "language_info": {
   "codemirror_mode": {
    "name": "ipython",
    "version": 3
   },
   "file_extension": ".py",
   "mimetype": "text/x-python",
   "name": "python",
   "nbconvert_exporter": "python",
   "pygments_lexer": "ipython3",
   "version": "3.9.13"
  },
  "orig_nbformat": 4,
  "vscode": {
   "interpreter": {
    "hash": "e71422bb2ef37b6d8b51ef7b9f84e46fd3fe992dffcd80aef8c047527c10b435"
   }
  }
 },
 "nbformat": 4,
 "nbformat_minor": 2
}
